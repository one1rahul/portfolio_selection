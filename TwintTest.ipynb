{
 "cells": [
  {
   "cell_type": "code",
   "execution_count": 2,
   "id": "31cec9da",
   "metadata": {},
   "outputs": [],
   "source": [
    "import numpy as np\n",
    "import scipy as sp\n",
    "import scipy.stats as stat\n",
    "import matplotlib.pyplot as plt\n",
    "%matplotlib inline"
   ]
  },
  {
   "cell_type": "code",
   "execution_count": null,
   "id": "a48f9b5c",
   "metadata": {},
   "outputs": [],
   "source": [
    "T = 200\n",
    "alpha = (0,0.8,0.98)\n",
    "x = np.empty(T+1)\n",
    "\n",
    "for a in alpha:\n",
    "    x[0] = 0\n",
    "    for t in range(T):\n",
    "        x[t+1]=a*x[t]+np.random.randn()\n",
    "    plt.plot(x, label = f'$a = {a}$')\n",
    "plt.legend()\n",
    "plt.show()\n"
   ]
  },
  {
   "cell_type": "code",
   "execution_count": null,
   "id": "42ac2971",
   "metadata": {},
   "outputs": [],
   "source": [
    "alpha = 0.9\n",
    "for t in range (T):\n",
    "    x[t+1]=a*np.abs(x[t])+np.random.randn()\n",
    "plt.plot(x)\n",
    "plt.show"
   ]
  },
  {
   "cell_type": "code",
   "execution_count": null,
   "id": "42dbca58",
   "metadata": {},
   "outputs": [],
   "source": [
    "alpha = 0.9\n",
    "for t in range (T):\n",
    "    if x[t] < 0:\n",
    "        x[t] = -1 * x [t]\n",
    "    else:\n",
    "        x[t] = x[t]\n",
    "    x[t+1]=a*np.abs(x[t])+np.random.randn()\n",
    "plt.plot(x)\n",
    "plt.show"
   ]
  }
 ],
 "metadata": {
  "kernelspec": {
   "display_name": "Python 3.10.5 64-bit ('testenv')",
   "language": "python",
   "name": "python3"
  },
  "language_info": {
   "codemirror_mode": {
    "name": "ipython",
    "version": 3
   },
   "file_extension": ".py",
   "mimetype": "text/x-python",
   "name": "python",
   "nbconvert_exporter": "python",
   "pygments_lexer": "ipython3",
   "version": "3.10.5"
  },
  "vscode": {
   "interpreter": {
    "hash": "bbcca00d2c850acf0901292315a6d92cef00c273668021915ecba321efaf6b70"
   }
  }
 },
 "nbformat": 4,
 "nbformat_minor": 5
}
